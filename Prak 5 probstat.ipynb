{
 "cells": [
  {
   "cell_type": "code",
   "execution_count": 1,
   "id": "d49b16a1-9ad5-49dc-805f-2b98b6116abb",
   "metadata": {},
   "outputs": [
    {
     "name": "stdout",
     "output_type": "stream",
     "text": [
      "Probabilitas tinggi kurang dari 189 cm: 0.8413447460685429\n"
     ]
    }
   ],
   "source": [
    "# Zulfaqih Ashar Hasan\n",
    "# 064102400026\n",
    "\n",
    "from scipy.stats import norm\n",
    "\n",
    "# Menentukan rata-rata dan standar deviasi\n",
    "mean = 184  # rata-rata\n",
    "std_dev = 5  # standar deviasi\n",
    "\n",
    "# Menghitung probabilitas tinggi kurang dari 189 cm\n",
    "height = 189\n",
    "prob_less_than_189 = norm.cdf(height, mean, std_dev)\n",
    "\n",
    "# Menampilkan hasil\n",
    "print(\"Probabilitas tinggi kurang dari 189 cm:\", prob_less_than_189)\n"
   ]
  },
  {
   "cell_type": "code",
   "execution_count": 2,
   "id": "626cfb92-4c4d-4b26-bb5d-bf8350a54d37",
   "metadata": {},
   "outputs": [
    {
     "name": "stdout",
     "output_type": "stream",
     "text": [
      "Probabilitas tinggi antara 174 cm dan 199 cm: 0.9758999700201907\n"
     ]
    }
   ],
   "source": [
    "# Zulfaqih Ashar Hasan\n",
    "# 064102400026\n",
    "\n",
    "from scipy.stats import norm\n",
    "\n",
    "# Menentukan rata-rata dan standar deviasi\n",
    "mean = 184  # rata-rata\n",
    "std_dev = 5  # standar deviasi\n",
    "\n",
    "# Menghitung probabilitas tinggi kurang dari 174 cm\n",
    "prob_less_than_174 = norm.cdf(174, mean, std_dev)\n",
    "\n",
    "# Menghitung probabilitas tinggi kurang dari 199 cm\n",
    "prob_less_than_199 = norm.cdf(199, mean, std_dev)\n",
    "\n",
    "# Kemungkinan antara 174 cm dan 199 cm adalah selisih antara probabilitas kurang dari 199 dan kurang dari 174\n",
    "prob_between_174_and_199 = prob_less_than_199 - prob_less_than_174\n",
    "\n",
    "# Menampilkan hasil\n",
    "print(\"Probabilitas tinggi antara 174 cm dan 199 cm:\", prob_between_174_and_199)\n"
   ]
  },
  {
   "cell_type": "code",
   "execution_count": 3,
   "id": "a4c92ca1-46e1-45ee-b80d-0636934a112f",
   "metadata": {},
   "outputs": [
    {
     "name": "stdout",
     "output_type": "stream",
     "text": [
      "Peluang apel yang berkualitas 'not good': 0.0595\n"
     ]
    }
   ],
   "source": [
    "# Zulfaqih Ashar Hasan\n",
    "# 064102400025\n",
    "\n",
    "from scipy.stats import norm\n",
    "\n",
    "# Menentukan rata-rata dan standar deviasi\n",
    "mean = 173  # rata-rata\n",
    "std_dev = 34  # standar deviasi\n",
    "\n",
    "# Menghitung probabilitas apel berkualitas \"not good\" (berat kurang dari 120 gram)\n",
    "prob_not_good = norm.cdf(120, mean, std_dev)\n",
    "\n",
    "# Menampilkan hasil\n",
    "print(\"Peluang apel yang berkualitas 'not good': {:.4f}\".format(prob_not_good))\n"
   ]
  },
  {
   "cell_type": "code",
   "execution_count": 4,
   "id": "5e8b75b3-7ab2-4acb-b62c-1b8868154116",
   "metadata": {},
   "outputs": [
    {
     "name": "stdout",
     "output_type": "stream",
     "text": [
      "Rata-rata jumlah pelanggan dalam sistem (L): 4.00\n",
      "Rata-rata waktu setiap pelanggan berada dalam sistem (W): 40.00\n"
     ]
    }
   ],
   "source": [
    "# Zulfaqih Ashar Hasan\n",
    "# 064102400026\n",
    "\n",
    "# Definisi laju kedatangan dan laju pelayanan\n",
    "arrival_rate = 1/10   # pelanggan per menit\n",
    "service_rate = 1/8    # pelanggan per menit\n",
    "\n",
    "# Menghitung rata-rata jumlah pelanggan dalam sistem (L)\n",
    "L = arrival_rate / (service_rate - arrival_rate)\n",
    "\n",
    "# Menghitung rata-rata waktu setiap pelanggan berada dalam sistem (W)\n",
    "W = L / arrival_rate\n",
    "\n",
    "# Menampilkan hasil\n",
    "print(\"Rata-rata jumlah pelanggan dalam sistem (L): {:.2f}\".format(L))\n",
    "print(\"Rata-rata waktu setiap pelanggan berada dalam sistem (W): {:.2f}\".format(W))\n"
   ]
  },
  {
   "cell_type": "code",
   "execution_count": 5,
   "id": "00244d8d-602e-4153-aac1-04876f6820d3",
   "metadata": {},
   "outputs": [
    {
     "name": "stdout",
     "output_type": "stream",
     "text": [
      "Peluang seseorang dilayani antara 3 sampai 5 menit: 0.1618974\n"
     ]
    }
   ],
   "source": [
    "# Zulfaqih Ashar Hasan\n",
    "# 064102400026\n",
    "\n",
    "from scipy.stats import expon\n",
    "\n",
    "# Rerata waktu pelayanan (mu)\n",
    "mean_service_time = 7.  # menit\n",
    "\n",
    "# Menghitung peluang seseorang dilayani antara 3 sampai 5 menit\n",
    "prob_between_3_and_5 = expon.cdf(5, scale=mean_service_time) - expon.cdf(3, scale=mean_service_time)\n",
    "\n",
    "# Menampilkan hasil\n",
    "print(\"Peluang seseorang dilayani antara 3 sampai 5 menit: {:.7f}\".format(prob_between_3_and_5))\n"
   ]
  },
  {
   "cell_type": "code",
   "execution_count": 6,
   "id": "dbd1da8d-80bf-4e71-952c-7055d4445b00",
   "metadata": {},
   "outputs": [
    {
     "name": "stdout",
     "output_type": "stream",
     "text": [
      "Peluang lebih dari 6 pelanggan akan tiba dalam periode 2 menit berikutnya: 0.8698586\n"
     ]
    }
   ],
   "source": [
    "# Zulfaqih Ashar Hasan\n",
    "# 064102400026\n",
    "\n",
    "from scipy.stats import poisson\n",
    "\n",
    "# Rata-rata pelanggan per menit (λ)\n",
    "mean_arrival_rate = 5\n",
    "\n",
    "# Menghitung peluang lebih dari 6 pelanggan tiba dalam periode 2 menit\n",
    "prob_more_than_6_arrivals = 1 - poisson.cdf(6, mu=mean_arrival_rate * 2)\n",
    "\n",
    "# Menampilkan hasil\n",
    "print(\"Peluang lebih dari 6 pelanggan akan tiba dalam periode 2 menit berikutnya: {:.7f}\".format(prob_more_than_6_arrivals))\n"
   ]
  },
  {
   "cell_type": "code",
   "execution_count": 7,
   "id": "9ed82f19-307a-471d-8fc5-60d134a566be",
   "metadata": {},
   "outputs": [
    {
     "name": "stdout",
     "output_type": "stream",
     "text": [
      "Tinggi sedemikian rupa sehingga 16,85% pemain basket lebih tinggi dari 188.80 cm\n"
     ]
    }
   ],
   "source": [
    "# Zulfaqih Ashar Hasan\n",
    "# 064102400026\n",
    "\n",
    "from scipy.stats import norm\n",
    "\n",
    "# Menentukan rata-rata dan standar deviasi\n",
    "mean = 184  # rata-rata\n",
    "std_dev = 5  # standar deviasi\n",
    "\n",
    "# Probabilitas tinggi lebih tinggi dari tinggi tertentu\n",
    "prob_more_than = 1 - 0.1685\n",
    "\n",
    "# Menggunakan fungsi quantile untuk menemukan tinggi yang sesuai\n",
    "height = norm.ppf(prob_more_than, mean, std_dev)\n",
    "\n",
    "# Menampilkan hasil\n",
    "print(\"Tinggi sedemikian rupa sehingga 16,85% pemain basket lebih tinggi dari {:.2f} cm\".format(height))\n"
   ]
  },
  {
   "cell_type": "code",
   "execution_count": 8,
   "id": "1a6e3c6b-ff2c-4280-ba84-5f619cd251a1",
   "metadata": {},
   "outputs": [
    {
     "name": "stdout",
     "output_type": "stream",
     "text": [
      "Probabilitas kurang dari atau sama dengan 2 apel berkualitas 'not good': 0.9903771\n"
     ]
    }
   ],
   "source": [
    "# Zulfaqih Ashar Hasan\n",
    "# 064102400026\n",
    "\n",
    "from scipy.stats import binom\n",
    "\n",
    "# Menentukan parameter distribusi binomial\n",
    "n = 8  # total jumlah apel\n",
    "p = 0.06  # probabilitas apel berkualitas \"not good\"\n",
    "\n",
    "# Menghitung probabilitas jumlah apel berkualitas \"not good\" kurang dari/i atau sama dengan 2\n",
    "prob_not_good_2_or_less = binom.cdf(2, n, p)\n",
    "\n",
    "# Menampilkan hasil\n",
    "print(\"Probabilitas kurang dari atau sama dengan 2 apel berkualitas 'not good': {:.7f}\".format(prob_not_good_2_or_less))\n"
   ]
  },
  {
   "cell_type": "code",
   "execution_count": 9,
   "id": "ae457f1f-7656-4f4a-b852-d222db81d065",
   "metadata": {},
   "outputs": [
    {
     "name": "stdout",
     "output_type": "stream",
     "text": [
      "Rata-rata jumlah pelanggan dalam sistem (L) setelah perubahan: 1.00\n",
      "Rata-rata waktu setiap pelanggan berada dalam sistem (W) setelah perubahan: 16.00\n"
     ]
    }
   ],
   "source": [
    "# Zulfaqih Ashar Hasan\n",
    "# 064102400026\n",
    "\n",
    "# Definisi laju kedatangan dan laju pelayanan\n",
    "arrival_rate_new = 1/16  # pelanggan per menit\n",
    "\n",
    "# Menghitung ulang rata-rata jumlah pelanggan dalam sistem (L)\n",
    "L_new = arrival_rate_new / (service_rate - arrival_rate_new)\n",
    "\n",
    "# Menghitung ulang rata-rata waktu setiap pelanggan berada dalam sistem (W)\n",
    "W_new = L_new / arrival_rate_new\n",
    "\n",
    "# Menampilkan hasil\n",
    "print(\"Rata-rata jumlah pelanggan dalam sistem (L) setelah perubahan: {:.2f}\".format(L_new))\n",
    "print(\"Rata-rata waktu setiap pelanggan berada dalam sistem (W) setelah perubahan: {:.2f}\".format(W_new))\n",
    "\n"
   ]
  },
  {
   "cell_type": "code",
   "execution_count": 10,
   "id": "0cccf4cd-b0ce-46e9-a0df-1e7a4da5d273",
   "metadata": {},
   "outputs": [
    {
     "name": "stdout",
     "output_type": "stream",
     "text": [
      "Peluang seseorang mendapatkan pelayanan lebih dari 8 menit: 0.3189066\n"
     ]
    }
   ],
   "source": [
    "# Zulfaqih Ashar Hasan\n",
    "# 064102400026\n",
    "\n",
    "from scipy.stats import expon\n",
    "\n",
    "# Rerata waktu pelayanan (mu)\n",
    "mean_service_time = 7  # menit\n",
    "\n",
    "# Menghitung peluang seseorang mendapatkan pelayanan lebih dari 8 menit\n",
    "prob_more_than_8_minutes = 1 - expon.cdf(8, scale=mean_service_time)\n",
    "\n",
    "# Menampilkan hasil\n",
    "print(\"Peluang seseorang mendapatkan pelayanan lebih dari 8 menit: {:.7f}\".format(prob_more_than_8_minutes))\n"
   ]
  },
  {
   "cell_type": "code",
   "execution_count": 11,
   "id": "80535f80-a4fc-4e9a-876a-31ddb1caf200",
   "metadata": {},
   "outputs": [
    {
     "name": "stdout",
     "output_type": "stream",
     "text": [
      "Peluang bahwa dalam 1 menit berikutnya terdapat tepat 4 pelanggan yang akan datang: 0.1754674\n"
     ]
    }
   ],
   "source": [
    "# Zulfaqih Ashar Hasan\n",
    "# 064102400026\n",
    "\n",
    "from scipy.stats import poisson\n",
    "\n",
    "# Rata-rata pelanggan per menit (λ)\n",
    "mean_arrival_rate = 5\n",
    "\n",
    "# Menghitung peluang tepat 4 pelanggan akan datang dalam 1 menit\n",
    "prob_4_arrivals = poisson.pmf(4, mu=mean_arrival_rate)\n",
    "\n",
    "# Menampilkan hasil\n",
    "print(\"Peluang bahwa dalam 1 menit berikutnya terdapat tepat 4 pelanggan yang akan datang: {:.7f}\".format(prob_4_arrivals))\n"
   ]
  },
  {
   "cell_type": "code",
   "execution_count": null,
   "id": "5e7e488e-ee2f-454f-922f-9b148468084d",
   "metadata": {},
   "outputs": [],
   "source": []
  }
 ],
 "metadata": {
  "kernelspec": {
   "display_name": "Python 3 (ipykernel)",
   "language": "python",
   "name": "python3"
  },
  "language_info": {
   "codemirror_mode": {
    "name": "ipython",
    "version": 3
   },
   "file_extension": ".py",
   "mimetype": "text/x-python",
   "name": "python",
   "nbconvert_exporter": "python",
   "pygments_lexer": "ipython3",
   "version": "3.12.7"
  }
 },
 "nbformat": 4,
 "nbformat_minor": 5
}
